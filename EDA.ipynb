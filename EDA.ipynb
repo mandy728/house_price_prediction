{
 "cells": [
  {
   "cell_type": "code",
   "execution_count": 257,
   "id": "acting-custom",
   "metadata": {},
   "outputs": [],
   "source": [
    "import pandas as pd\n",
    "import numpy as np\n",
    "import seaborn as sns\n",
    "import matplotlib.pyplot as plt\n",
    "sns.set()\n",
    "from sklearn.preprocessing import OrdinalEncoder\n",
    "from scipy.stats import skew\n",
    "import math"
   ]
  },
  {
   "cell_type": "code",
   "execution_count": 30,
   "id": "exciting-status",
   "metadata": {},
   "outputs": [],
   "source": [
    "train = pd.read_csv('train.csv')\n",
    "test = pd.read_csv('test.csv')"
   ]
  },
  {
   "cell_type": "code",
   "execution_count": 31,
   "id": "general-victoria",
   "metadata": {},
   "outputs": [
    {
     "data": {
      "text/html": [
       "<div>\n",
       "<style scoped>\n",
       "    .dataframe tbody tr th:only-of-type {\n",
       "        vertical-align: middle;\n",
       "    }\n",
       "\n",
       "    .dataframe tbody tr th {\n",
       "        vertical-align: top;\n",
       "    }\n",
       "\n",
       "    .dataframe thead th {\n",
       "        text-align: right;\n",
       "    }\n",
       "</style>\n",
       "<table border=\"1\" class=\"dataframe\">\n",
       "  <thead>\n",
       "    <tr style=\"text-align: right;\">\n",
       "      <th></th>\n",
       "      <th>Id</th>\n",
       "      <th>MSSubClass</th>\n",
       "      <th>MSZoning</th>\n",
       "      <th>LotFrontage</th>\n",
       "      <th>LotArea</th>\n",
       "      <th>Street</th>\n",
       "      <th>Alley</th>\n",
       "      <th>LotShape</th>\n",
       "      <th>LandContour</th>\n",
       "      <th>Utilities</th>\n",
       "      <th>...</th>\n",
       "      <th>PoolArea</th>\n",
       "      <th>PoolQC</th>\n",
       "      <th>Fence</th>\n",
       "      <th>MiscFeature</th>\n",
       "      <th>MiscVal</th>\n",
       "      <th>MoSold</th>\n",
       "      <th>YrSold</th>\n",
       "      <th>SaleType</th>\n",
       "      <th>SaleCondition</th>\n",
       "      <th>SalePrice</th>\n",
       "    </tr>\n",
       "  </thead>\n",
       "  <tbody>\n",
       "    <tr>\n",
       "      <th>0</th>\n",
       "      <td>1</td>\n",
       "      <td>60</td>\n",
       "      <td>RL</td>\n",
       "      <td>65.0</td>\n",
       "      <td>8450</td>\n",
       "      <td>Pave</td>\n",
       "      <td>NaN</td>\n",
       "      <td>Reg</td>\n",
       "      <td>Lvl</td>\n",
       "      <td>AllPub</td>\n",
       "      <td>...</td>\n",
       "      <td>0</td>\n",
       "      <td>NaN</td>\n",
       "      <td>NaN</td>\n",
       "      <td>NaN</td>\n",
       "      <td>0</td>\n",
       "      <td>2</td>\n",
       "      <td>2008</td>\n",
       "      <td>WD</td>\n",
       "      <td>Normal</td>\n",
       "      <td>208500</td>\n",
       "    </tr>\n",
       "    <tr>\n",
       "      <th>1</th>\n",
       "      <td>2</td>\n",
       "      <td>20</td>\n",
       "      <td>RL</td>\n",
       "      <td>80.0</td>\n",
       "      <td>9600</td>\n",
       "      <td>Pave</td>\n",
       "      <td>NaN</td>\n",
       "      <td>Reg</td>\n",
       "      <td>Lvl</td>\n",
       "      <td>AllPub</td>\n",
       "      <td>...</td>\n",
       "      <td>0</td>\n",
       "      <td>NaN</td>\n",
       "      <td>NaN</td>\n",
       "      <td>NaN</td>\n",
       "      <td>0</td>\n",
       "      <td>5</td>\n",
       "      <td>2007</td>\n",
       "      <td>WD</td>\n",
       "      <td>Normal</td>\n",
       "      <td>181500</td>\n",
       "    </tr>\n",
       "    <tr>\n",
       "      <th>2</th>\n",
       "      <td>3</td>\n",
       "      <td>60</td>\n",
       "      <td>RL</td>\n",
       "      <td>68.0</td>\n",
       "      <td>11250</td>\n",
       "      <td>Pave</td>\n",
       "      <td>NaN</td>\n",
       "      <td>IR1</td>\n",
       "      <td>Lvl</td>\n",
       "      <td>AllPub</td>\n",
       "      <td>...</td>\n",
       "      <td>0</td>\n",
       "      <td>NaN</td>\n",
       "      <td>NaN</td>\n",
       "      <td>NaN</td>\n",
       "      <td>0</td>\n",
       "      <td>9</td>\n",
       "      <td>2008</td>\n",
       "      <td>WD</td>\n",
       "      <td>Normal</td>\n",
       "      <td>223500</td>\n",
       "    </tr>\n",
       "    <tr>\n",
       "      <th>3</th>\n",
       "      <td>4</td>\n",
       "      <td>70</td>\n",
       "      <td>RL</td>\n",
       "      <td>60.0</td>\n",
       "      <td>9550</td>\n",
       "      <td>Pave</td>\n",
       "      <td>NaN</td>\n",
       "      <td>IR1</td>\n",
       "      <td>Lvl</td>\n",
       "      <td>AllPub</td>\n",
       "      <td>...</td>\n",
       "      <td>0</td>\n",
       "      <td>NaN</td>\n",
       "      <td>NaN</td>\n",
       "      <td>NaN</td>\n",
       "      <td>0</td>\n",
       "      <td>2</td>\n",
       "      <td>2006</td>\n",
       "      <td>WD</td>\n",
       "      <td>Abnorml</td>\n",
       "      <td>140000</td>\n",
       "    </tr>\n",
       "    <tr>\n",
       "      <th>4</th>\n",
       "      <td>5</td>\n",
       "      <td>60</td>\n",
       "      <td>RL</td>\n",
       "      <td>84.0</td>\n",
       "      <td>14260</td>\n",
       "      <td>Pave</td>\n",
       "      <td>NaN</td>\n",
       "      <td>IR1</td>\n",
       "      <td>Lvl</td>\n",
       "      <td>AllPub</td>\n",
       "      <td>...</td>\n",
       "      <td>0</td>\n",
       "      <td>NaN</td>\n",
       "      <td>NaN</td>\n",
       "      <td>NaN</td>\n",
       "      <td>0</td>\n",
       "      <td>12</td>\n",
       "      <td>2008</td>\n",
       "      <td>WD</td>\n",
       "      <td>Normal</td>\n",
       "      <td>250000</td>\n",
       "    </tr>\n",
       "  </tbody>\n",
       "</table>\n",
       "<p>5 rows × 81 columns</p>\n",
       "</div>"
      ],
      "text/plain": [
       "   Id  MSSubClass MSZoning  LotFrontage  LotArea Street Alley LotShape  \\\n",
       "0   1          60       RL         65.0     8450   Pave   NaN      Reg   \n",
       "1   2          20       RL         80.0     9600   Pave   NaN      Reg   \n",
       "2   3          60       RL         68.0    11250   Pave   NaN      IR1   \n",
       "3   4          70       RL         60.0     9550   Pave   NaN      IR1   \n",
       "4   5          60       RL         84.0    14260   Pave   NaN      IR1   \n",
       "\n",
       "  LandContour Utilities  ... PoolArea PoolQC Fence MiscFeature MiscVal MoSold  \\\n",
       "0         Lvl    AllPub  ...        0    NaN   NaN         NaN       0      2   \n",
       "1         Lvl    AllPub  ...        0    NaN   NaN         NaN       0      5   \n",
       "2         Lvl    AllPub  ...        0    NaN   NaN         NaN       0      9   \n",
       "3         Lvl    AllPub  ...        0    NaN   NaN         NaN       0      2   \n",
       "4         Lvl    AllPub  ...        0    NaN   NaN         NaN       0     12   \n",
       "\n",
       "  YrSold  SaleType  SaleCondition  SalePrice  \n",
       "0   2008        WD         Normal     208500  \n",
       "1   2007        WD         Normal     181500  \n",
       "2   2008        WD         Normal     223500  \n",
       "3   2006        WD        Abnorml     140000  \n",
       "4   2008        WD         Normal     250000  \n",
       "\n",
       "[5 rows x 81 columns]"
      ]
     },
     "execution_count": 31,
     "metadata": {},
     "output_type": "execute_result"
    }
   ],
   "source": [
    "train.head()"
   ]
  },
  {
   "cell_type": "code",
   "execution_count": 45,
   "id": "banner-statistics",
   "metadata": {},
   "outputs": [],
   "source": [
    "# train.describe().T"
   ]
  },
  {
   "cell_type": "markdown",
   "id": "graphic-permit",
   "metadata": {},
   "source": [
    "## Part 1 Data Cleaning"
   ]
  },
  {
   "cell_type": "markdown",
   "id": "eight-asthma",
   "metadata": {},
   "source": [
    "### Clean Traning Data"
   ]
  },
  {
   "cell_type": "code",
   "execution_count": 33,
   "id": "silent-password",
   "metadata": {},
   "outputs": [],
   "source": [
    "num = test.isnull().sum().sort_values(ascending=False)\n",
    "percent = (test.isnull().sum()/test.isnull().count()).sort_values(ascending=False)\n",
    "null_data = pd.concat([num,percent],keys=['null_num','percentage'],axis=1)\n"
   ]
  },
  {
   "cell_type": "code",
   "execution_count": 34,
   "id": "sticky-series",
   "metadata": {},
   "outputs": [
    {
     "data": {
      "text/html": [
       "<div>\n",
       "<style scoped>\n",
       "    .dataframe tbody tr th:only-of-type {\n",
       "        vertical-align: middle;\n",
       "    }\n",
       "\n",
       "    .dataframe tbody tr th {\n",
       "        vertical-align: top;\n",
       "    }\n",
       "\n",
       "    .dataframe thead th {\n",
       "        text-align: right;\n",
       "    }\n",
       "</style>\n",
       "<table border=\"1\" class=\"dataframe\">\n",
       "  <thead>\n",
       "    <tr style=\"text-align: right;\">\n",
       "      <th></th>\n",
       "      <th>null_num</th>\n",
       "      <th>percentage</th>\n",
       "    </tr>\n",
       "  </thead>\n",
       "  <tbody>\n",
       "    <tr>\n",
       "      <th>PoolQC</th>\n",
       "      <td>1456</td>\n",
       "      <td>0.997944</td>\n",
       "    </tr>\n",
       "    <tr>\n",
       "      <th>MiscFeature</th>\n",
       "      <td>1408</td>\n",
       "      <td>0.965045</td>\n",
       "    </tr>\n",
       "    <tr>\n",
       "      <th>Alley</th>\n",
       "      <td>1352</td>\n",
       "      <td>0.926662</td>\n",
       "    </tr>\n",
       "    <tr>\n",
       "      <th>Fence</th>\n",
       "      <td>1169</td>\n",
       "      <td>0.801234</td>\n",
       "    </tr>\n",
       "    <tr>\n",
       "      <th>FireplaceQu</th>\n",
       "      <td>730</td>\n",
       "      <td>0.500343</td>\n",
       "    </tr>\n",
       "    <tr>\n",
       "      <th>LotFrontage</th>\n",
       "      <td>227</td>\n",
       "      <td>0.155586</td>\n",
       "    </tr>\n",
       "    <tr>\n",
       "      <th>GarageYrBlt</th>\n",
       "      <td>78</td>\n",
       "      <td>0.053461</td>\n",
       "    </tr>\n",
       "    <tr>\n",
       "      <th>GarageQual</th>\n",
       "      <td>78</td>\n",
       "      <td>0.053461</td>\n",
       "    </tr>\n",
       "    <tr>\n",
       "      <th>GarageFinish</th>\n",
       "      <td>78</td>\n",
       "      <td>0.053461</td>\n",
       "    </tr>\n",
       "    <tr>\n",
       "      <th>GarageCond</th>\n",
       "      <td>78</td>\n",
       "      <td>0.053461</td>\n",
       "    </tr>\n",
       "    <tr>\n",
       "      <th>GarageType</th>\n",
       "      <td>76</td>\n",
       "      <td>0.052090</td>\n",
       "    </tr>\n",
       "    <tr>\n",
       "      <th>BsmtCond</th>\n",
       "      <td>45</td>\n",
       "      <td>0.030843</td>\n",
       "    </tr>\n",
       "    <tr>\n",
       "      <th>BsmtQual</th>\n",
       "      <td>44</td>\n",
       "      <td>0.030158</td>\n",
       "    </tr>\n",
       "    <tr>\n",
       "      <th>BsmtExposure</th>\n",
       "      <td>44</td>\n",
       "      <td>0.030158</td>\n",
       "    </tr>\n",
       "    <tr>\n",
       "      <th>BsmtFinType1</th>\n",
       "      <td>42</td>\n",
       "      <td>0.028787</td>\n",
       "    </tr>\n",
       "    <tr>\n",
       "      <th>BsmtFinType2</th>\n",
       "      <td>42</td>\n",
       "      <td>0.028787</td>\n",
       "    </tr>\n",
       "    <tr>\n",
       "      <th>MasVnrType</th>\n",
       "      <td>16</td>\n",
       "      <td>0.010966</td>\n",
       "    </tr>\n",
       "    <tr>\n",
       "      <th>MasVnrArea</th>\n",
       "      <td>15</td>\n",
       "      <td>0.010281</td>\n",
       "    </tr>\n",
       "    <tr>\n",
       "      <th>MSZoning</th>\n",
       "      <td>4</td>\n",
       "      <td>0.002742</td>\n",
       "    </tr>\n",
       "    <tr>\n",
       "      <th>BsmtHalfBath</th>\n",
       "      <td>2</td>\n",
       "      <td>0.001371</td>\n",
       "    </tr>\n",
       "    <tr>\n",
       "      <th>Utilities</th>\n",
       "      <td>2</td>\n",
       "      <td>0.001371</td>\n",
       "    </tr>\n",
       "    <tr>\n",
       "      <th>Functional</th>\n",
       "      <td>2</td>\n",
       "      <td>0.001371</td>\n",
       "    </tr>\n",
       "    <tr>\n",
       "      <th>BsmtFullBath</th>\n",
       "      <td>2</td>\n",
       "      <td>0.001371</td>\n",
       "    </tr>\n",
       "    <tr>\n",
       "      <th>BsmtFinSF1</th>\n",
       "      <td>1</td>\n",
       "      <td>0.000685</td>\n",
       "    </tr>\n",
       "    <tr>\n",
       "      <th>BsmtFinSF2</th>\n",
       "      <td>1</td>\n",
       "      <td>0.000685</td>\n",
       "    </tr>\n",
       "    <tr>\n",
       "      <th>BsmtUnfSF</th>\n",
       "      <td>1</td>\n",
       "      <td>0.000685</td>\n",
       "    </tr>\n",
       "    <tr>\n",
       "      <th>KitchenQual</th>\n",
       "      <td>1</td>\n",
       "      <td>0.000685</td>\n",
       "    </tr>\n",
       "    <tr>\n",
       "      <th>TotalBsmtSF</th>\n",
       "      <td>1</td>\n",
       "      <td>0.000685</td>\n",
       "    </tr>\n",
       "    <tr>\n",
       "      <th>Exterior2nd</th>\n",
       "      <td>1</td>\n",
       "      <td>0.000685</td>\n",
       "    </tr>\n",
       "    <tr>\n",
       "      <th>GarageCars</th>\n",
       "      <td>1</td>\n",
       "      <td>0.000685</td>\n",
       "    </tr>\n",
       "    <tr>\n",
       "      <th>Exterior1st</th>\n",
       "      <td>1</td>\n",
       "      <td>0.000685</td>\n",
       "    </tr>\n",
       "    <tr>\n",
       "      <th>GarageArea</th>\n",
       "      <td>1</td>\n",
       "      <td>0.000685</td>\n",
       "    </tr>\n",
       "    <tr>\n",
       "      <th>SaleType</th>\n",
       "      <td>1</td>\n",
       "      <td>0.000685</td>\n",
       "    </tr>\n",
       "    <tr>\n",
       "      <th>MiscVal</th>\n",
       "      <td>0</td>\n",
       "      <td>0.000000</td>\n",
       "    </tr>\n",
       "    <tr>\n",
       "      <th>BedroomAbvGr</th>\n",
       "      <td>0</td>\n",
       "      <td>0.000000</td>\n",
       "    </tr>\n",
       "    <tr>\n",
       "      <th>KitchenAbvGr</th>\n",
       "      <td>0</td>\n",
       "      <td>0.000000</td>\n",
       "    </tr>\n",
       "    <tr>\n",
       "      <th>YrSold</th>\n",
       "      <td>0</td>\n",
       "      <td>0.000000</td>\n",
       "    </tr>\n",
       "    <tr>\n",
       "      <th>TotRmsAbvGrd</th>\n",
       "      <td>0</td>\n",
       "      <td>0.000000</td>\n",
       "    </tr>\n",
       "    <tr>\n",
       "      <th>MoSold</th>\n",
       "      <td>0</td>\n",
       "      <td>0.000000</td>\n",
       "    </tr>\n",
       "    <tr>\n",
       "      <th>Fireplaces</th>\n",
       "      <td>0</td>\n",
       "      <td>0.000000</td>\n",
       "    </tr>\n",
       "  </tbody>\n",
       "</table>\n",
       "</div>"
      ],
      "text/plain": [
       "              null_num  percentage\n",
       "PoolQC            1456    0.997944\n",
       "MiscFeature       1408    0.965045\n",
       "Alley             1352    0.926662\n",
       "Fence             1169    0.801234\n",
       "FireplaceQu        730    0.500343\n",
       "LotFrontage        227    0.155586\n",
       "GarageYrBlt         78    0.053461\n",
       "GarageQual          78    0.053461\n",
       "GarageFinish        78    0.053461\n",
       "GarageCond          78    0.053461\n",
       "GarageType          76    0.052090\n",
       "BsmtCond            45    0.030843\n",
       "BsmtQual            44    0.030158\n",
       "BsmtExposure        44    0.030158\n",
       "BsmtFinType1        42    0.028787\n",
       "BsmtFinType2        42    0.028787\n",
       "MasVnrType          16    0.010966\n",
       "MasVnrArea          15    0.010281\n",
       "MSZoning             4    0.002742\n",
       "BsmtHalfBath         2    0.001371\n",
       "Utilities            2    0.001371\n",
       "Functional           2    0.001371\n",
       "BsmtFullBath         2    0.001371\n",
       "BsmtFinSF1           1    0.000685\n",
       "BsmtFinSF2           1    0.000685\n",
       "BsmtUnfSF            1    0.000685\n",
       "KitchenQual          1    0.000685\n",
       "TotalBsmtSF          1    0.000685\n",
       "Exterior2nd          1    0.000685\n",
       "GarageCars           1    0.000685\n",
       "Exterior1st          1    0.000685\n",
       "GarageArea           1    0.000685\n",
       "SaleType             1    0.000685\n",
       "MiscVal              0    0.000000\n",
       "BedroomAbvGr         0    0.000000\n",
       "KitchenAbvGr         0    0.000000\n",
       "YrSold               0    0.000000\n",
       "TotRmsAbvGrd         0    0.000000\n",
       "MoSold               0    0.000000\n",
       "Fireplaces           0    0.000000"
      ]
     },
     "execution_count": 34,
     "metadata": {},
     "output_type": "execute_result"
    }
   ],
   "source": [
    "null_data.head(40)"
   ]
  },
  {
   "cell_type": "code",
   "execution_count": 35,
   "id": "personalized-possibility",
   "metadata": {},
   "outputs": [],
   "source": [
    "train = train.drop(null_data[null_data['null_num']>1].index, axis=1)\n"
   ]
  },
  {
   "cell_type": "code",
   "execution_count": 42,
   "id": "worst-democrat",
   "metadata": {},
   "outputs": [],
   "source": [
    "# train.isnull().sum()"
   ]
  },
  {
   "cell_type": "code",
   "execution_count": 41,
   "id": "according-ozone",
   "metadata": {},
   "outputs": [
    {
     "data": {
      "text/plain": [
       "0"
      ]
     },
     "execution_count": 41,
     "metadata": {},
     "output_type": "execute_result"
    }
   ],
   "source": [
    "# Dealing with missing data\n",
    "\n",
    "train['Electrical'] = train['Electrical'].fillna(train['Electrical'].mode()[0])\n",
    "train.isnull().sum().max()"
   ]
  },
  {
   "cell_type": "markdown",
   "id": "received-mechanics",
   "metadata": {},
   "source": [
    "### Clean Test Data"
   ]
  },
  {
   "cell_type": "code",
   "execution_count": 47,
   "id": "boxed-declaration",
   "metadata": {},
   "outputs": [
    {
     "data": {
      "text/plain": [
       "Id                 0\n",
       "MSSubClass         0\n",
       "MSZoning           4\n",
       "LotFrontage      227\n",
       "LotArea            0\n",
       "                ... \n",
       "MiscVal            0\n",
       "MoSold             0\n",
       "YrSold             0\n",
       "SaleType           1\n",
       "SaleCondition      0\n",
       "Length: 80, dtype: int64"
      ]
     },
     "execution_count": 47,
     "metadata": {},
     "output_type": "execute_result"
    }
   ],
   "source": [
    "test.isnull().sum()"
   ]
  },
  {
   "cell_type": "code",
   "execution_count": 49,
   "id": "flying-canyon",
   "metadata": {},
   "outputs": [],
   "source": [
    "num1 = test.isnull().sum().sort_values(ascending=False)\n",
    "percent1 =  (test.isnull().sum()/test.isnull().count()).sort_values(ascending=False)\n",
    "test_null = pd.concat([num1,percent1],keys=['null_num','percentage'],axis=1)"
   ]
  },
  {
   "cell_type": "code",
   "execution_count": 74,
   "id": "attended-candle",
   "metadata": {},
   "outputs": [
    {
     "data": {
      "text/html": [
       "<div>\n",
       "<style scoped>\n",
       "    .dataframe tbody tr th:only-of-type {\n",
       "        vertical-align: middle;\n",
       "    }\n",
       "\n",
       "    .dataframe tbody tr th {\n",
       "        vertical-align: top;\n",
       "    }\n",
       "\n",
       "    .dataframe thead th {\n",
       "        text-align: right;\n",
       "    }\n",
       "</style>\n",
       "<table border=\"1\" class=\"dataframe\">\n",
       "  <thead>\n",
       "    <tr style=\"text-align: right;\">\n",
       "      <th></th>\n",
       "      <th>null_num</th>\n",
       "      <th>percentage</th>\n",
       "    </tr>\n",
       "  </thead>\n",
       "  <tbody>\n",
       "    <tr>\n",
       "      <th>PoolQC</th>\n",
       "      <td>1456</td>\n",
       "      <td>0.997944</td>\n",
       "    </tr>\n",
       "    <tr>\n",
       "      <th>MiscFeature</th>\n",
       "      <td>1408</td>\n",
       "      <td>0.965045</td>\n",
       "    </tr>\n",
       "    <tr>\n",
       "      <th>Alley</th>\n",
       "      <td>1352</td>\n",
       "      <td>0.926662</td>\n",
       "    </tr>\n",
       "    <tr>\n",
       "      <th>Fence</th>\n",
       "      <td>1169</td>\n",
       "      <td>0.801234</td>\n",
       "    </tr>\n",
       "    <tr>\n",
       "      <th>FireplaceQu</th>\n",
       "      <td>730</td>\n",
       "      <td>0.500343</td>\n",
       "    </tr>\n",
       "    <tr>\n",
       "      <th>...</th>\n",
       "      <td>...</td>\n",
       "      <td>...</td>\n",
       "    </tr>\n",
       "    <tr>\n",
       "      <th>Electrical</th>\n",
       "      <td>0</td>\n",
       "      <td>0.000000</td>\n",
       "    </tr>\n",
       "    <tr>\n",
       "      <th>1stFlrSF</th>\n",
       "      <td>0</td>\n",
       "      <td>0.000000</td>\n",
       "    </tr>\n",
       "    <tr>\n",
       "      <th>2ndFlrSF</th>\n",
       "      <td>0</td>\n",
       "      <td>0.000000</td>\n",
       "    </tr>\n",
       "    <tr>\n",
       "      <th>LowQualFinSF</th>\n",
       "      <td>0</td>\n",
       "      <td>0.000000</td>\n",
       "    </tr>\n",
       "    <tr>\n",
       "      <th>SaleCondition</th>\n",
       "      <td>0</td>\n",
       "      <td>0.000000</td>\n",
       "    </tr>\n",
       "  </tbody>\n",
       "</table>\n",
       "<p>80 rows × 2 columns</p>\n",
       "</div>"
      ],
      "text/plain": [
       "               null_num  percentage\n",
       "PoolQC             1456    0.997944\n",
       "MiscFeature        1408    0.965045\n",
       "Alley              1352    0.926662\n",
       "Fence              1169    0.801234\n",
       "FireplaceQu         730    0.500343\n",
       "...                 ...         ...\n",
       "Electrical            0    0.000000\n",
       "1stFlrSF              0    0.000000\n",
       "2ndFlrSF              0    0.000000\n",
       "LowQualFinSF          0    0.000000\n",
       "SaleCondition         0    0.000000\n",
       "\n",
       "[80 rows x 2 columns]"
      ]
     },
     "execution_count": 74,
     "metadata": {},
     "output_type": "execute_result"
    }
   ],
   "source": [
    "test_null "
   ]
  },
  {
   "cell_type": "code",
   "execution_count": 77,
   "id": "opening-commerce",
   "metadata": {},
   "outputs": [],
   "source": [
    "test.drop((test_null[test_null['null_num']>4]).index,1)"
   ]
  },
  {
   "cell_type": "code",
   "execution_count": 78,
   "id": "numerical-turkey",
   "metadata": {},
   "outputs": [],
   "source": [
    "num1 = test.isnull().sum().sort_values(ascending=False)\n",
    "percent1 =  (test.isnull().sum()/test.isnull().count()).sort_values(ascending=False)\n",
    "test_null = pd.concat([num1,percent1],keys=['null_num','percentage'],axis=1)"
   ]
  },
  {
   "cell_type": "code",
   "execution_count": 82,
   "id": "metric-index",
   "metadata": {},
   "outputs": [
    {
     "data": {
      "text/html": [
       "<div>\n",
       "<style scoped>\n",
       "    .dataframe tbody tr th:only-of-type {\n",
       "        vertical-align: middle;\n",
       "    }\n",
       "\n",
       "    .dataframe tbody tr th {\n",
       "        vertical-align: top;\n",
       "    }\n",
       "\n",
       "    .dataframe thead th {\n",
       "        text-align: right;\n",
       "    }\n",
       "</style>\n",
       "<table border=\"1\" class=\"dataframe\">\n",
       "  <thead>\n",
       "    <tr style=\"text-align: right;\">\n",
       "      <th></th>\n",
       "      <th>null_num</th>\n",
       "      <th>percentage</th>\n",
       "    </tr>\n",
       "  </thead>\n",
       "  <tbody>\n",
       "    <tr>\n",
       "      <th>MSZoning</th>\n",
       "      <td>4</td>\n",
       "      <td>0.002742</td>\n",
       "    </tr>\n",
       "    <tr>\n",
       "      <th>Functional</th>\n",
       "      <td>2</td>\n",
       "      <td>0.001371</td>\n",
       "    </tr>\n",
       "    <tr>\n",
       "      <th>BsmtFullBath</th>\n",
       "      <td>2</td>\n",
       "      <td>0.001371</td>\n",
       "    </tr>\n",
       "    <tr>\n",
       "      <th>BsmtHalfBath</th>\n",
       "      <td>2</td>\n",
       "      <td>0.001371</td>\n",
       "    </tr>\n",
       "    <tr>\n",
       "      <th>Utilities</th>\n",
       "      <td>2</td>\n",
       "      <td>0.001371</td>\n",
       "    </tr>\n",
       "    <tr>\n",
       "      <th>BsmtUnfSF</th>\n",
       "      <td>1</td>\n",
       "      <td>0.000685</td>\n",
       "    </tr>\n",
       "    <tr>\n",
       "      <th>BsmtFinSF2</th>\n",
       "      <td>1</td>\n",
       "      <td>0.000685</td>\n",
       "    </tr>\n",
       "    <tr>\n",
       "      <th>Exterior2nd</th>\n",
       "      <td>1</td>\n",
       "      <td>0.000685</td>\n",
       "    </tr>\n",
       "    <tr>\n",
       "      <th>GarageCars</th>\n",
       "      <td>1</td>\n",
       "      <td>0.000685</td>\n",
       "    </tr>\n",
       "    <tr>\n",
       "      <th>GarageArea</th>\n",
       "      <td>1</td>\n",
       "      <td>0.000685</td>\n",
       "    </tr>\n",
       "    <tr>\n",
       "      <th>BsmtFinSF1</th>\n",
       "      <td>1</td>\n",
       "      <td>0.000685</td>\n",
       "    </tr>\n",
       "    <tr>\n",
       "      <th>KitchenQual</th>\n",
       "      <td>1</td>\n",
       "      <td>0.000685</td>\n",
       "    </tr>\n",
       "    <tr>\n",
       "      <th>Exterior1st</th>\n",
       "      <td>1</td>\n",
       "      <td>0.000685</td>\n",
       "    </tr>\n",
       "    <tr>\n",
       "      <th>TotalBsmtSF</th>\n",
       "      <td>1</td>\n",
       "      <td>0.000685</td>\n",
       "    </tr>\n",
       "    <tr>\n",
       "      <th>SaleType</th>\n",
       "      <td>1</td>\n",
       "      <td>0.000685</td>\n",
       "    </tr>\n",
       "    <tr>\n",
       "      <th>HalfBath</th>\n",
       "      <td>0</td>\n",
       "      <td>0.000000</td>\n",
       "    </tr>\n",
       "    <tr>\n",
       "      <th>BedroomAbvGr</th>\n",
       "      <td>0</td>\n",
       "      <td>0.000000</td>\n",
       "    </tr>\n",
       "    <tr>\n",
       "      <th>FullBath</th>\n",
       "      <td>0</td>\n",
       "      <td>0.000000</td>\n",
       "    </tr>\n",
       "    <tr>\n",
       "      <th>KitchenAbvGr</th>\n",
       "      <td>0</td>\n",
       "      <td>0.000000</td>\n",
       "    </tr>\n",
       "    <tr>\n",
       "      <th>GrLivArea</th>\n",
       "      <td>0</td>\n",
       "      <td>0.000000</td>\n",
       "    </tr>\n",
       "  </tbody>\n",
       "</table>\n",
       "</div>"
      ],
      "text/plain": [
       "              null_num  percentage\n",
       "MSZoning             4    0.002742\n",
       "Functional           2    0.001371\n",
       "BsmtFullBath         2    0.001371\n",
       "BsmtHalfBath         2    0.001371\n",
       "Utilities            2    0.001371\n",
       "BsmtUnfSF            1    0.000685\n",
       "BsmtFinSF2           1    0.000685\n",
       "Exterior2nd          1    0.000685\n",
       "GarageCars           1    0.000685\n",
       "GarageArea           1    0.000685\n",
       "BsmtFinSF1           1    0.000685\n",
       "KitchenQual          1    0.000685\n",
       "Exterior1st          1    0.000685\n",
       "TotalBsmtSF          1    0.000685\n",
       "SaleType             1    0.000685\n",
       "HalfBath             0    0.000000\n",
       "BedroomAbvGr         0    0.000000\n",
       "FullBath             0    0.000000\n",
       "KitchenAbvGr         0    0.000000\n",
       "GrLivArea            0    0.000000"
      ]
     },
     "execution_count": 82,
     "metadata": {},
     "output_type": "execute_result"
    }
   ],
   "source": [
    "test_null.head(20)"
   ]
  },
  {
   "cell_type": "code",
   "execution_count": 86,
   "id": "generous-dinner",
   "metadata": {},
   "outputs": [],
   "source": [
    "null_features = test_null[test_null['null_num']>0].index"
   ]
  },
  {
   "cell_type": "code",
   "execution_count": 87,
   "id": "diverse-crest",
   "metadata": {},
   "outputs": [
    {
     "data": {
      "text/plain": [
       "Index(['MSZoning', 'Functional', 'BsmtFullBath', 'BsmtHalfBath', 'Utilities',\n",
       "       'BsmtUnfSF', 'BsmtFinSF2', 'Exterior2nd', 'GarageCars', 'GarageArea',\n",
       "       'BsmtFinSF1', 'KitchenQual', 'Exterior1st', 'TotalBsmtSF', 'SaleType'],\n",
       "      dtype='object')"
      ]
     },
     "execution_count": 87,
     "metadata": {},
     "output_type": "execute_result"
    }
   ],
   "source": [
    "null_features"
   ]
  },
  {
   "cell_type": "code",
   "execution_count": 103,
   "id": "republican-hormone",
   "metadata": {},
   "outputs": [],
   "source": [
    "for f in null_features:\n",
    "    test[f]=test[f].fillna(test[f].mode()[0])"
   ]
  },
  {
   "cell_type": "markdown",
   "id": "natural-roommate",
   "metadata": {},
   "source": [
    "## Part 2 Plotting"
   ]
  },
  {
   "cell_type": "code",
   "execution_count": 107,
   "id": "absent-specification",
   "metadata": {},
   "outputs": [
    {
     "name": "stdout",
     "output_type": "stream",
     "text": [
      "<class 'pandas.core.frame.DataFrame'>\n",
      "RangeIndex: 1460 entries, 0 to 1459\n",
      "Data columns (total 58 columns):\n",
      " #   Column         Non-Null Count  Dtype \n",
      "---  ------         --------------  ----- \n",
      " 0   Id             1460 non-null   int64 \n",
      " 1   MSSubClass     1460 non-null   int64 \n",
      " 2   LotArea        1460 non-null   int64 \n",
      " 3   Street         1460 non-null   object\n",
      " 4   LotShape       1460 non-null   object\n",
      " 5   LandContour    1460 non-null   object\n",
      " 6   LotConfig      1460 non-null   object\n",
      " 7   LandSlope      1460 non-null   object\n",
      " 8   Neighborhood   1460 non-null   object\n",
      " 9   Condition1     1460 non-null   object\n",
      " 10  Condition2     1460 non-null   object\n",
      " 11  BldgType       1460 non-null   object\n",
      " 12  HouseStyle     1460 non-null   object\n",
      " 13  OverallQual    1460 non-null   int64 \n",
      " 14  OverallCond    1460 non-null   int64 \n",
      " 15  YearBuilt      1460 non-null   int64 \n",
      " 16  YearRemodAdd   1460 non-null   int64 \n",
      " 17  RoofStyle      1460 non-null   object\n",
      " 18  RoofMatl       1460 non-null   object\n",
      " 19  Exterior1st    1460 non-null   object\n",
      " 20  Exterior2nd    1460 non-null   object\n",
      " 21  ExterQual      1460 non-null   object\n",
      " 22  ExterCond      1460 non-null   object\n",
      " 23  Foundation     1460 non-null   object\n",
      " 24  BsmtFinSF1     1460 non-null   int64 \n",
      " 25  BsmtFinSF2     1460 non-null   int64 \n",
      " 26  BsmtUnfSF      1460 non-null   int64 \n",
      " 27  TotalBsmtSF    1460 non-null   int64 \n",
      " 28  Heating        1460 non-null   object\n",
      " 29  HeatingQC      1460 non-null   object\n",
      " 30  CentralAir     1460 non-null   object\n",
      " 31  Electrical     1460 non-null   object\n",
      " 32  1stFlrSF       1460 non-null   int64 \n",
      " 33  2ndFlrSF       1460 non-null   int64 \n",
      " 34  LowQualFinSF   1460 non-null   int64 \n",
      " 35  GrLivArea      1460 non-null   int64 \n",
      " 36  FullBath       1460 non-null   int64 \n",
      " 37  HalfBath       1460 non-null   int64 \n",
      " 38  BedroomAbvGr   1460 non-null   int64 \n",
      " 39  KitchenAbvGr   1460 non-null   int64 \n",
      " 40  KitchenQual    1460 non-null   object\n",
      " 41  TotRmsAbvGrd   1460 non-null   int64 \n",
      " 42  Fireplaces     1460 non-null   int64 \n",
      " 43  GarageCars     1460 non-null   int64 \n",
      " 44  GarageArea     1460 non-null   int64 \n",
      " 45  PavedDrive     1460 non-null   object\n",
      " 46  WoodDeckSF     1460 non-null   int64 \n",
      " 47  OpenPorchSF    1460 non-null   int64 \n",
      " 48  EnclosedPorch  1460 non-null   int64 \n",
      " 49  3SsnPorch      1460 non-null   int64 \n",
      " 50  ScreenPorch    1460 non-null   int64 \n",
      " 51  PoolArea       1460 non-null   int64 \n",
      " 52  MiscVal        1460 non-null   int64 \n",
      " 53  MoSold         1460 non-null   int64 \n",
      " 54  YrSold         1460 non-null   int64 \n",
      " 55  SaleType       1460 non-null   object\n",
      " 56  SaleCondition  1460 non-null   object\n",
      " 57  SalePrice      1460 non-null   int64 \n",
      "dtypes: int64(33), object(25)\n",
      "memory usage: 661.7+ KB\n"
     ]
    }
   ],
   "source": [
    "train.info()"
   ]
  },
  {
   "cell_type": "code",
   "execution_count": 118,
   "id": "facial-offering",
   "metadata": {},
   "outputs": [
    {
     "data": {
      "text/plain": [
       "<AxesSubplot:xlabel='SalePrice', ylabel='Density'>"
      ]
     },
     "execution_count": 118,
     "metadata": {},
     "output_type": "execute_result"
    },
    {
     "data": {
      "image/png": "[encoded data removed]",
      "text/plain": [
       "<Figure size 432x288 with 1 Axes>"
      ]
     },
     "metadata": {
      "needs_background": "light"
     },
     "output_type": "display_data"
    }
   ],
   "source": [
    "sns.distplot(train['SalePrice'],color='red')"
   ]
  },
  {
   "cell_type": "code",
   "execution_count": 115,
   "id": "external-opinion",
   "metadata": {},
   "outputs": [
    {
     "data": {
      "text/plain": [
       "(1460, 58)"
      ]
     },
     "execution_count": 115,
     "metadata": {},
     "output_type": "execute_result"
    }
   ],
   "source": [
    "train.shape"
   ]
  },
  {
   "cell_type": "code",
   "execution_count": 119,
   "id": "julian-revision",
   "metadata": {},
   "outputs": [
    {
     "data": {
      "text/plain": [
       "Id                     2\n",
       "MSSubClass            20\n",
       "LotArea             9600\n",
       "Street              Pave\n",
       "LotShape             Reg\n",
       "LandContour          Lvl\n",
       "LotConfig            FR2\n",
       "LandSlope            Gtl\n",
       "Neighborhood     Veenker\n",
       "Condition1         Feedr\n",
       "Condition2          Norm\n",
       "BldgType            1Fam\n",
       "HouseStyle        1Story\n",
       "OverallQual            6\n",
       "OverallCond            8\n",
       "YearBuilt           1976\n",
       "YearRemodAdd        1976\n",
       "RoofStyle          Gable\n",
       "RoofMatl         CompShg\n",
       "Exterior1st      MetalSd\n",
       "Exterior2nd      MetalSd\n",
       "ExterQual             TA\n",
       "ExterCond             TA\n",
       "Foundation        CBlock\n",
       "BsmtFinSF1           978\n",
       "BsmtFinSF2             0\n",
       "BsmtUnfSF            284\n",
       "TotalBsmtSF         1262\n",
       "Heating             GasA\n",
       "HeatingQC             Ex\n",
       "CentralAir             Y\n",
       "Electrical         SBrkr\n",
       "1stFlrSF            1262\n",
       "2ndFlrSF               0\n",
       "LowQualFinSF           0\n",
       "GrLivArea           1262\n",
       "FullBath               2\n",
       "HalfBath               0\n",
       "BedroomAbvGr           3\n",
       "KitchenAbvGr           1\n",
       "KitchenQual           TA\n",
       "TotRmsAbvGrd           6\n",
       "Fireplaces             1\n",
       "GarageCars             2\n",
       "GarageArea           460\n",
       "PavedDrive             Y\n",
       "WoodDeckSF           298\n",
       "OpenPorchSF            0\n",
       "EnclosedPorch          0\n",
       "3SsnPorch              0\n",
       "ScreenPorch            0\n",
       "PoolArea               0\n",
       "MiscVal                0\n",
       "MoSold                 5\n",
       "YrSold              2007\n",
       "SaleType              WD\n",
       "SaleCondition     Normal\n",
       "SalePrice         181500\n",
       "Name: 1, dtype: object"
      ]
     },
     "execution_count": 119,
     "metadata": {},
     "output_type": "execute_result"
    }
   ],
   "source": [
    "train.iloc[1].T"
   ]
  },
  {
   "cell_type": "code",
   "execution_count": 322,
   "id": "about-extraction",
   "metadata": {},
   "outputs": [
    {
     "data": {
      "image/png": "[encoded data removed]",
      "text/plain": [
       "<Figure size 576x360 with 1 Axes>"
      ]
     },
     "metadata": {},
     "output_type": "display_data"
    }
   ],
   "source": [
    "x = train.groupby('Neighborhood').count().sort_values(by='Id', ascending=True)['Id'].iloc[-5:].plot(kind=\"barh\",figsize=(8,5), title=\"Most Distributed Neighborhoods\",color='salmon')\n",
    "\n",
    "# ax = sns.barplot(data=train.groupby('Neighborhood').count().sort_values(by='Id', ascending=True)['Id'])\n",
    "# ax = sns.barplot(x=\"tip\", y=\"day\", data=tips)\n",
    "plt.show()"
   ]
  },
  {
   "cell_type": "code",
   "execution_count": 300,
   "id": "polar-example",
   "metadata": {},
   "outputs": [],
   "source": [
    "# x = train['sal'.groupby('Neighborhood').mean.sort_values(by='Id', ascending=True)['Id'].iloc[-5:].plot(kind=\"barh\",figsize=(8,5), title=\"Top 5 Neighborhoods\",color='salmon')\n",
    "\n",
    "\n",
    "# plt.show()"
   ]
  },
  {
   "cell_type": "code",
   "execution_count": 321,
   "id": "studied-liverpool",
   "metadata": {},
   "outputs": [
    {
     "data": {
      "text/plain": [
       "<AxesSubplot:title={'center':'Average House Price/Neighborhood'}, ylabel='Neighborhood'>"
      ]
     },
     "execution_count": 321,
     "metadata": {},
     "output_type": "execute_result"
    },
    {
     "data": {
      "image/png": "[encoded data removed]",
      "text/plain": [
       "<Figure size 576x360 with 1 Axes>"
      ]
     },
     "metadata": {},
     "output_type": "display_data"
    }
   ],
   "source": [
    "train.groupby(['Neighborhood']).mean().sort_values(by='SalePrice', ascending=True)['SalePrice'].iloc[-5:].plot(kind=\"barh\",figsize=(8,5), title=\"Average House Price/Neighborhood\",color='cadetblue')"
   ]
  },
  {
   "cell_type": "markdown",
   "id": "alleged-signature",
   "metadata": {},
   "source": [
    "* Most distributed: North Ames / College Creek / Old Town / Edwards / Somerset\n",
    "* Most expensive: "
   ]
  },
  {
   "cell_type": "code",
   "execution_count": 236,
   "id": "wooden-project",
   "metadata": {},
   "outputs": [
    {
     "data": {
      "image/png": "[encoded data removed]",
      "text/plain": [
       "<Figure size 576x360 with 1 Axes>"
      ]
     },
     "metadata": {
      "needs_background": "light"
     },
     "output_type": "display_data"
    }
   ],
   "source": [
    "plt.figure(figsize=(8,5))\n",
    "plt.hist(train['YearBuilt'],bins=50,color='salmon')\n",
    "\n",
    "plt.title('Houses Built from 1972-2010')\n",
    "plt.xlabel('Year Built')\n",
    "plt.ylabel('values')\n",
    "plt.show() \n",
    "# figsize=(8,8"
   ]
  },
  {
   "cell_type": "code",
   "execution_count": 203,
   "id": "macro-evaluation",
   "metadata": {},
   "outputs": [
    {
     "data": {
      "text/plain": [
       "count    1460.000000\n",
       "mean     1971.267808\n",
       "std        30.202904\n",
       "min      1872.000000\n",
       "25%      1954.000000\n",
       "50%      1973.000000\n",
       "75%      2000.000000\n",
       "max      2010.000000\n",
       "Name: YearBuilt, dtype: float64"
      ]
     },
     "execution_count": 203,
     "metadata": {},
     "output_type": "execute_result"
    }
   ],
   "source": [
    "train['YearBuilt']"
   ]
  },
  {
   "cell_type": "code",
   "execution_count": 261,
   "id": "institutional-august",
   "metadata": {},
   "outputs": [
    {
     "data": {
      "text/html": [
       "<div>\n",
       "<style scoped>\n",
       "    .dataframe tbody tr th:only-of-type {\n",
       "        vertical-align: middle;\n",
       "    }\n",
       "\n",
       "    .dataframe tbody tr th {\n",
       "        vertical-align: top;\n",
       "    }\n",
       "\n",
       "    .dataframe thead th {\n",
       "        text-align: right;\n",
       "    }\n",
       "</style>\n",
       "<table border=\"1\" class=\"dataframe\">\n",
       "  <thead>\n",
       "    <tr style=\"text-align: right;\">\n",
       "      <th></th>\n",
       "      <th>YearBuilt</th>\n",
       "      <th>OverallQual</th>\n",
       "    </tr>\n",
       "  </thead>\n",
       "  <tbody>\n",
       "    <tr>\n",
       "      <th>1349</th>\n",
       "      <td>1872</td>\n",
       "      <td>8</td>\n",
       "    </tr>\n",
       "    <tr>\n",
       "      <th>1137</th>\n",
       "      <td>1875</td>\n",
       "      <td>5</td>\n",
       "    </tr>\n",
       "    <tr>\n",
       "      <th>747</th>\n",
       "      <td>1880</td>\n",
       "      <td>7</td>\n",
       "    </tr>\n",
       "    <tr>\n",
       "      <th>304</th>\n",
       "      <td>1880</td>\n",
       "      <td>7</td>\n",
       "    </tr>\n",
       "    <tr>\n",
       "      <th>1132</th>\n",
       "      <td>1880</td>\n",
       "      <td>6</td>\n",
       "    </tr>\n",
       "    <tr>\n",
       "      <th>...</th>\n",
       "      <td>...</td>\n",
       "      <td>...</td>\n",
       "    </tr>\n",
       "    <tr>\n",
       "      <th>898</th>\n",
       "      <td>2009</td>\n",
       "      <td>9</td>\n",
       "    </tr>\n",
       "    <tr>\n",
       "      <th>515</th>\n",
       "      <td>2009</td>\n",
       "      <td>10</td>\n",
       "    </tr>\n",
       "    <tr>\n",
       "      <th>157</th>\n",
       "      <td>2009</td>\n",
       "      <td>8</td>\n",
       "    </tr>\n",
       "    <tr>\n",
       "      <th>762</th>\n",
       "      <td>2009</td>\n",
       "      <td>7</td>\n",
       "    </tr>\n",
       "    <tr>\n",
       "      <th>378</th>\n",
       "      <td>2010</td>\n",
       "      <td>9</td>\n",
       "    </tr>\n",
       "  </tbody>\n",
       "</table>\n",
       "<p>1460 rows × 2 columns</p>\n",
       "</div>"
      ],
      "text/plain": [
       "      YearBuilt  OverallQual\n",
       "1349       1872            8\n",
       "1137       1875            5\n",
       "747        1880            7\n",
       "304        1880            7\n",
       "1132       1880            6\n",
       "...         ...          ...\n",
       "898        2009            9\n",
       "515        2009           10\n",
       "157        2009            8\n",
       "762        2009            7\n",
       "378        2010            9\n",
       "\n",
       "[1460 rows x 2 columns]"
      ]
     },
     "execution_count": 261,
     "metadata": {},
     "output_type": "execute_result"
    }
   ],
   "source": [
    "# time_df = train['year']\n",
    "quality=train[['YearBuilt','OverallQual']].sort_values(by='YearBuilt')\n",
    "quality"
   ]
  },
  {
   "cell_type": "code",
   "execution_count": 275,
   "id": "induced-confidentiality",
   "metadata": {},
   "outputs": [],
   "source": [
    "quality1 = train[['YearBuilt','OverallCond']].sort_values(by='YearBuilt')"
   ]
  },
  {
   "cell_type": "markdown",
   "id": "excellent-stock",
   "metadata": {},
   "source": [
    "* We can take a look here and figure out why they don't have similar trends"
   ]
  },
  {
   "cell_type": "code",
   "execution_count": 265,
   "id": "historic-independence",
   "metadata": {},
   "outputs": [
    {
     "data": {
      "text/plain": [
       "<AxesSubplot:xlabel='YearBuilt', ylabel='OverallQual'>"
      ]
     },
     "execution_count": 265,
     "metadata": {},
     "output_type": "execute_result"
    },
    {
     "data": {
      "image/png": "[encoded data removed]",
      "text/plain": [
       "<Figure size 432x288 with 1 Axes>"
      ]
     },
     "metadata": {},
     "output_type": "display_data"
    }
   ],
   "source": [
    "sns.lineplot(x=quality['YearBuilt'],y=quality['OverallQual'])"
   ]
  },
  {
   "cell_type": "code",
   "execution_count": 277,
   "id": "tropical-strap",
   "metadata": {},
   "outputs": [
    {
     "data": {
      "text/plain": [
       "<AxesSubplot:xlabel='YearBuilt', ylabel='OverallCond'>"
      ]
     },
     "execution_count": 277,
     "metadata": {},
     "output_type": "execute_result"
    },
    {
     "data": {
      "image/png": "[encoded data removed]",
      "text/plain": [
       "<Figure size 432x288 with 1 Axes>"
      ]
     },
     "metadata": {},
     "output_type": "display_data"
    }
   ],
   "source": [
    "sns.lineplot(x=quality1['YearBuilt'],y=quality1['OverallCond'])"
   ]
  },
  {
   "cell_type": "code",
   "execution_count": 279,
   "id": "sustained-albuquerque",
   "metadata": {},
   "outputs": [],
   "source": [
    "# quality1[quality1['OverallCond']<5]"
   ]
  },
  {
   "cell_type": "code",
   "execution_count": 272,
   "id": "studied-suspension",
   "metadata": {},
   "outputs": [
    {
     "data": {
      "text/html": [
       "<div>\n",
       "<style scoped>\n",
       "    .dataframe tbody tr th:only-of-type {\n",
       "        vertical-align: middle;\n",
       "    }\n",
       "\n",
       "    .dataframe tbody tr th {\n",
       "        vertical-align: top;\n",
       "    }\n",
       "\n",
       "    .dataframe thead th {\n",
       "        text-align: right;\n",
       "    }\n",
       "</style>\n",
       "<table border=\"1\" class=\"dataframe\">\n",
       "  <thead>\n",
       "    <tr style=\"text-align: right;\">\n",
       "      <th></th>\n",
       "      <th>YearBuilt</th>\n",
       "      <th>OverallQual</th>\n",
       "    </tr>\n",
       "  </thead>\n",
       "  <tbody>\n",
       "    <tr>\n",
       "      <th>691</th>\n",
       "      <td>1994</td>\n",
       "      <td>10</td>\n",
       "    </tr>\n",
       "    <tr>\n",
       "      <th>185</th>\n",
       "      <td>1892</td>\n",
       "      <td>10</td>\n",
       "    </tr>\n",
       "    <tr>\n",
       "      <th>591</th>\n",
       "      <td>2008</td>\n",
       "      <td>10</td>\n",
       "    </tr>\n",
       "    <tr>\n",
       "      <th>1442</th>\n",
       "      <td>2008</td>\n",
       "      <td>10</td>\n",
       "    </tr>\n",
       "    <tr>\n",
       "      <th>58</th>\n",
       "      <td>2006</td>\n",
       "      <td>10</td>\n",
       "    </tr>\n",
       "    <tr>\n",
       "      <th>...</th>\n",
       "      <td>...</td>\n",
       "      <td>...</td>\n",
       "    </tr>\n",
       "    <tr>\n",
       "      <th>1100</th>\n",
       "      <td>1920</td>\n",
       "      <td>2</td>\n",
       "    </tr>\n",
       "    <tr>\n",
       "      <th>636</th>\n",
       "      <td>1936</td>\n",
       "      <td>2</td>\n",
       "    </tr>\n",
       "    <tr>\n",
       "      <th>916</th>\n",
       "      <td>1949</td>\n",
       "      <td>2</td>\n",
       "    </tr>\n",
       "    <tr>\n",
       "      <th>375</th>\n",
       "      <td>1922</td>\n",
       "      <td>1</td>\n",
       "    </tr>\n",
       "    <tr>\n",
       "      <th>533</th>\n",
       "      <td>1946</td>\n",
       "      <td>1</td>\n",
       "    </tr>\n",
       "  </tbody>\n",
       "</table>\n",
       "<p>1460 rows × 2 columns</p>\n",
       "</div>"
      ],
      "text/plain": [
       "      YearBuilt  OverallQual\n",
       "691        1994           10\n",
       "185        1892           10\n",
       "591        2008           10\n",
       "1442       2008           10\n",
       "58         2006           10\n",
       "...         ...          ...\n",
       "1100       1920            2\n",
       "636        1936            2\n",
       "916        1949            2\n",
       "375        1922            1\n",
       "533        1946            1\n",
       "\n",
       "[1460 rows x 2 columns]"
      ]
     },
     "execution_count": 272,
     "metadata": {},
     "output_type": "execute_result"
    }
   ],
   "source": [
    "quality.sort_values(by='OverallQual',ascending=False)"
   ]
  },
  {
   "cell_type": "code",
   "execution_count": null,
   "id": "global-raleigh",
   "metadata": {},
   "outputs": [],
   "source": []
  },
  {
   "cell_type": "code",
   "execution_count": null,
   "id": "convertible-oliver",
   "metadata": {},
   "outputs": [],
   "source": []
  },
  {
   "cell_type": "code",
   "execution_count": null,
   "id": "bulgarian-ready",
   "metadata": {},
   "outputs": [],
   "source": []
  },
  {
   "cell_type": "markdown",
   "id": "athletic-export",
   "metadata": {},
   "source": [
    "## Part 3 Modeling "
   ]
  },
  {
   "cell_type": "code",
   "execution_count": 296,
   "id": "retired-johnston",
   "metadata": {},
   "outputs": [
    {
     "data": {
      "image/png": "[encoded data removed]",
      "text/plain": [
       "<Figure size 936x720 with 2 Axes>"
      ]
     },
     "metadata": {},
     "output_type": "display_data"
    }
   ],
   "source": [
    "# sns.color_palette(\"Spectral\", as_cmap=True)\n",
    "corrMatrix = train.corr()\n",
    "plt.figure(figsize=(13,10))\n",
    "sns.heatmap(corrMatrix, annot=False,cmap=\"YlGnBu\")\n",
    "plt.show()\n",
    "# Wistia\n",
    "# YlGnBu"
   ]
  },
  {
   "cell_type": "markdown",
   "id": "accurate-sydney",
   "metadata": {},
   "source": []
  }
 ],
 "metadata": {
  "kernelspec": {
   "display_name": "Python 3",
   "language": "python",
   "name": "python3"
  },
  "language_info": {
   "codemirror_mode": {
    "name": "ipython",
    "version": 3
   },
   "file_extension": ".py",
   "mimetype": "text/x-python",
   "name": "python",
   "nbconvert_exporter": "python",
   "pygments_lexer": "ipython3",
   "version": "3.7.10"
  }
 },
 "nbformat": 4,
 "nbformat_minor": 5
}
